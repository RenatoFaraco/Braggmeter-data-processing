{
 "cells": [
  {
   "cell_type": "code",
   "execution_count": 2,
   "id": "3fb7c4d9",
   "metadata": {},
   "outputs": [],
   "source": [
    "import numpy as np\n",
    "import os\n",
    "import matplotlib.pyplot as plt\n",
    "import pandas as pd\n",
    "import seaborn as sns\n",
    "from sqlalchemy import create_engine"
   ]
  },
  {
   "cell_type": "code",
   "execution_count": 3,
   "id": "e6c6940e",
   "metadata": {},
   "outputs": [],
   "source": [
    "path=\"F:\\\\DOUTORADO_RENATO\\\\PESQUISAS\\\\MEUS_TRABALHOS\\\\AGUA_E_SAL\\\\data\"\n",
    "folder=\"01_05\"\n",
    "\n",
    "dados_excel = []\n",
    "all_data_frames = []"
   ]
  },
  {
   "cell_type": "code",
   "execution_count": null,
   "id": "8c26fb67",
   "metadata": {},
   "outputs": [],
   "source": [
    "for rodadas in os.listdir(os.path.join(path,folder)):\n",
    "    new_path = os.path.join(path,folder,rodadas)\n",
    "    \n",
    "    \n",
    "    for rodada in os.listdir(new_path):\n",
    "        amostras = os.path.join(new_path, rodada)\n",
    "    \n",
    "    \n",
    "        if os.path.isdir(amostras):\n",
    "            file = os.listdir(amostras)\n",
    "            file = [os.path.join(amostras, x) for x in file]\n",
    "\n",
    "            for files in file:\n",
    "                df = pd.read_csv(files, sep='\\t', decimal=',', header=None)\n",
    "                df.columns = ['wavelength', 'intensity measurement LPG', 'intensity reference LPG', 'noise 1', 'noise 2']\n",
    "                df.drop(columns=['noise 1', 'noise 2'], inplace=True)\n",
    "                df['rodadas'] = os.path.basename(rodadas)\n",
    "                df['amostras'] = os.path.basename(amostras)\n",
    "                \n",
    "                all_data_frames.append(df)"
   ]
  },
  {
   "cell_type": "code",
   "execution_count": 5,
   "id": "239beb82",
   "metadata": {},
   "outputs": [],
   "source": [
    "big_df = pd.concat(all_data_frames, ignore_index=True)\n",
    "big_df['dia'] = os.path.basename(folder)"
   ]
  },
  {
   "cell_type": "code",
   "execution_count": 6,
   "id": "12a5029b",
   "metadata": {},
   "outputs": [
    {
     "name": "stdout",
     "output_type": "stream",
     "text": [
      "Banco SQLite gravado em: F:\\DOUTORADO_RENATO\\PESQUISAS\\MEUS_TRABALHOS\\AGUA_E_SAL\\data\\01_05_todos_espectros.db\n"
     ]
    }
   ],
   "source": [
    "output_path = os.path.join(path, f\"{folder}_todos_espectros.db\")\n",
    "engine = create_engine(f\"sqlite:///{output_path}\")\n",
    "big_df.to_sql(\n",
    "    name=\"spectra\",\n",
    "    con=engine,\n",
    "    if_exists=\"replace\",   # ou 'append' se preferir acrescentar a cada execução\n",
    "    index=False,\n",
    "    chunksize=100_000      # opcional, para não carregar tudo na memória do SQLite de uma vez\n",
    ")\n",
    "\n",
    "print(f\"Banco SQLite gravado em: {output_path}\")"
   ]
  },
  {
   "cell_type": "code",
   "execution_count": 7,
   "id": "d16ab8e8",
   "metadata": {},
   "outputs": [],
   "source": [
    "df_teste = pd.read_sql(\"SELECT * FROM spectra\", engine)"
   ]
  },
  {
   "cell_type": "code",
   "execution_count": 8,
   "id": "d33970a3",
   "metadata": {},
   "outputs": [
    {
     "data": {
      "text/html": [
       "<div>\n",
       "<style scoped>\n",
       "    .dataframe tbody tr th:only-of-type {\n",
       "        vertical-align: middle;\n",
       "    }\n",
       "\n",
       "    .dataframe tbody tr th {\n",
       "        vertical-align: top;\n",
       "    }\n",
       "\n",
       "    .dataframe thead th {\n",
       "        text-align: right;\n",
       "    }\n",
       "</style>\n",
       "<table border=\"1\" class=\"dataframe\">\n",
       "  <thead>\n",
       "    <tr style=\"text-align: right;\">\n",
       "      <th></th>\n",
       "      <th>wavelength</th>\n",
       "      <th>intensity measurement LPG</th>\n",
       "      <th>intensity reference LPG</th>\n",
       "      <th>rodadas</th>\n",
       "      <th>amostras</th>\n",
       "      <th>dia</th>\n",
       "    </tr>\n",
       "  </thead>\n",
       "  <tbody>\n",
       "    <tr>\n",
       "      <th>0</th>\n",
       "      <td>1500.000</td>\n",
       "      <td>-14.9851</td>\n",
       "      <td>-21.1195</td>\n",
       "      <td>RODADA_1</td>\n",
       "      <td>A_0</td>\n",
       "      <td>01_05</td>\n",
       "    </tr>\n",
       "    <tr>\n",
       "      <th>1</th>\n",
       "      <td>1500.005</td>\n",
       "      <td>-14.9882</td>\n",
       "      <td>-21.1167</td>\n",
       "      <td>RODADA_1</td>\n",
       "      <td>A_0</td>\n",
       "      <td>01_05</td>\n",
       "    </tr>\n",
       "    <tr>\n",
       "      <th>2</th>\n",
       "      <td>1500.010</td>\n",
       "      <td>-14.9898</td>\n",
       "      <td>-21.1146</td>\n",
       "      <td>RODADA_1</td>\n",
       "      <td>A_0</td>\n",
       "      <td>01_05</td>\n",
       "    </tr>\n",
       "    <tr>\n",
       "      <th>3</th>\n",
       "      <td>1500.015</td>\n",
       "      <td>-14.9872</td>\n",
       "      <td>-21.1109</td>\n",
       "      <td>RODADA_1</td>\n",
       "      <td>A_0</td>\n",
       "      <td>01_05</td>\n",
       "    </tr>\n",
       "    <tr>\n",
       "      <th>4</th>\n",
       "      <td>1500.020</td>\n",
       "      <td>-14.9897</td>\n",
       "      <td>-21.1068</td>\n",
       "      <td>RODADA_1</td>\n",
       "      <td>A_0</td>\n",
       "      <td>01_05</td>\n",
       "    </tr>\n",
       "  </tbody>\n",
       "</table>\n",
       "</div>"
      ],
      "text/plain": [
       "   wavelength  intensity measurement LPG  intensity reference LPG   rodadas  \\\n",
       "0    1500.000                   -14.9851                 -21.1195  RODADA_1   \n",
       "1    1500.005                   -14.9882                 -21.1167  RODADA_1   \n",
       "2    1500.010                   -14.9898                 -21.1146  RODADA_1   \n",
       "3    1500.015                   -14.9872                 -21.1109  RODADA_1   \n",
       "4    1500.020                   -14.9897                 -21.1068  RODADA_1   \n",
       "\n",
       "  amostras    dia  \n",
       "0      A_0  01_05  \n",
       "1      A_0  01_05  \n",
       "2      A_0  01_05  \n",
       "3      A_0  01_05  \n",
       "4      A_0  01_05  "
      ]
     },
     "execution_count": 8,
     "metadata": {},
     "output_type": "execute_result"
    }
   ],
   "source": [
    "df_teste.head()"
   ]
  },
  {
   "cell_type": "code",
   "execution_count": null,
   "id": "73ef16bc",
   "metadata": {},
   "outputs": [],
   "source": []
  }
 ],
 "metadata": {
  "kernelspec": {
   "display_name": "Python 3",
   "language": "python",
   "name": "python3"
  },
  "language_info": {
   "codemirror_mode": {
    "name": "ipython",
    "version": 3
   },
   "file_extension": ".py",
   "mimetype": "text/x-python",
   "name": "python",
   "nbconvert_exporter": "python",
   "pygments_lexer": "ipython3",
   "version": "3.10.9"
  }
 },
 "nbformat": 4,
 "nbformat_minor": 5
}
